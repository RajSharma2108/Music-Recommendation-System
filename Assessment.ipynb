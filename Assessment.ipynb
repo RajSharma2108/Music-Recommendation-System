{
 "cells": [
  {
   "cell_type": "markdown",
   "metadata": {},
   "source": [
    "## Task : \"TensorFlow Engineering_TMG\"\n",
    "\n",
    "### Building a content based reccomendation system to recommend Track name on the basis of the given track name"
   ]
  },
  {
   "cell_type": "code",
   "execution_count": 1,
   "metadata": {},
   "outputs": [],
   "source": [
    "#importing required libraries\n",
    "\n",
    "import numpy as np\n",
    "import pandas as pd\n",
    "from sklearn.feature_extraction.text import CountVectorizer\n",
    "from sklearn.metrics.pairwise import cosine_similarity"
   ]
  },
  {
   "cell_type": "markdown",
   "metadata": {},
   "source": [
    "### Setting up data"
   ]
  },
  {
   "cell_type": "code",
   "execution_count": 2,
   "metadata": {},
   "outputs": [
    {
     "data": {
      "text/html": [
       "<div>\n",
       "<style scoped>\n",
       "    .dataframe tbody tr th:only-of-type {\n",
       "        vertical-align: middle;\n",
       "    }\n",
       "\n",
       "    .dataframe tbody tr th {\n",
       "        vertical-align: top;\n",
       "    }\n",
       "\n",
       "    .dataframe thead th {\n",
       "        text-align: right;\n",
       "    }\n",
       "</style>\n",
       "<table border=\"1\" class=\"dataframe\">\n",
       "  <thead>\n",
       "    <tr style=\"text-align: right;\">\n",
       "      <th></th>\n",
       "      <th>Track.Name</th>\n",
       "      <th>Artist.Name</th>\n",
       "      <th>Genre</th>\n",
       "    </tr>\n",
       "  </thead>\n",
       "  <tbody>\n",
       "    <tr>\n",
       "      <th>0</th>\n",
       "      <td>Senorita</td>\n",
       "      <td>Shawn Mendes</td>\n",
       "      <td>canadian pop</td>\n",
       "    </tr>\n",
       "    <tr>\n",
       "      <th>1</th>\n",
       "      <td>China</td>\n",
       "      <td>Anuel AA</td>\n",
       "      <td>reggaeton flow</td>\n",
       "    </tr>\n",
       "    <tr>\n",
       "      <th>2</th>\n",
       "      <td>boyfriend (with Social House)</td>\n",
       "      <td>Ariana Grande</td>\n",
       "      <td>dance pop</td>\n",
       "    </tr>\n",
       "    <tr>\n",
       "      <th>3</th>\n",
       "      <td>Beautiful People (feat. Khalid)</td>\n",
       "      <td>Ed Sheeran</td>\n",
       "      <td>pop</td>\n",
       "    </tr>\n",
       "    <tr>\n",
       "      <th>4</th>\n",
       "      <td>Goodbyes (Feat. Young Thug)</td>\n",
       "      <td>Post Malone</td>\n",
       "      <td>dfw rap</td>\n",
       "    </tr>\n",
       "  </tbody>\n",
       "</table>\n",
       "</div>"
      ],
      "text/plain": [
       "                        Track.Name    Artist.Name           Genre\n",
       "0                         Senorita   Shawn Mendes    canadian pop\n",
       "1                            China       Anuel AA  reggaeton flow\n",
       "2    boyfriend (with Social House)  Ariana Grande       dance pop\n",
       "3  Beautiful People (feat. Khalid)     Ed Sheeran             pop\n",
       "4      Goodbyes (Feat. Young Thug)    Post Malone         dfw rap"
      ]
     },
     "execution_count": 2,
     "metadata": {},
     "output_type": "execute_result"
    }
   ],
   "source": [
    "# reading dataset into pandas dataframe\n",
    "df = pd.read_csv('Music_Dataset.csv', encoding='latin-1')\n",
    "df.head()"
   ]
  },
  {
   "cell_type": "code",
   "execution_count": 3,
   "metadata": {},
   "outputs": [
    {
     "data": {
      "text/plain": [
       "['Artist.Name', 'Genre']"
      ]
     },
     "execution_count": 3,
     "metadata": {},
     "output_type": "execute_result"
    }
   ],
   "source": [
    "#selecting features relevant for Count Matrix\n",
    "features = ['Artist.Name', 'Genre']\n",
    "features"
   ]
  },
  {
   "cell_type": "code",
   "execution_count": 4,
   "metadata": {},
   "outputs": [
    {
     "data": {
      "text/html": [
       "<div>\n",
       "<style scoped>\n",
       "    .dataframe tbody tr th:only-of-type {\n",
       "        vertical-align: middle;\n",
       "    }\n",
       "\n",
       "    .dataframe tbody tr th {\n",
       "        vertical-align: top;\n",
       "    }\n",
       "\n",
       "    .dataframe thead th {\n",
       "        text-align: right;\n",
       "    }\n",
       "</style>\n",
       "<table border=\"1\" class=\"dataframe\">\n",
       "  <thead>\n",
       "    <tr style=\"text-align: right;\">\n",
       "      <th></th>\n",
       "      <th>Track.Name</th>\n",
       "      <th>Artist.Name</th>\n",
       "      <th>Genre</th>\n",
       "      <th>combined_features</th>\n",
       "    </tr>\n",
       "  </thead>\n",
       "  <tbody>\n",
       "    <tr>\n",
       "      <th>0</th>\n",
       "      <td>Senorita</td>\n",
       "      <td>Shawn Mendes</td>\n",
       "      <td>canadian pop</td>\n",
       "      <td>canadian pop Shawn Mendes</td>\n",
       "    </tr>\n",
       "    <tr>\n",
       "      <th>1</th>\n",
       "      <td>China</td>\n",
       "      <td>Anuel AA</td>\n",
       "      <td>reggaeton flow</td>\n",
       "      <td>reggaeton flow Anuel AA</td>\n",
       "    </tr>\n",
       "    <tr>\n",
       "      <th>2</th>\n",
       "      <td>boyfriend (with Social House)</td>\n",
       "      <td>Ariana Grande</td>\n",
       "      <td>dance pop</td>\n",
       "      <td>dance pop Ariana Grande</td>\n",
       "    </tr>\n",
       "    <tr>\n",
       "      <th>3</th>\n",
       "      <td>Beautiful People (feat. Khalid)</td>\n",
       "      <td>Ed Sheeran</td>\n",
       "      <td>pop</td>\n",
       "      <td>pop Ed Sheeran</td>\n",
       "    </tr>\n",
       "    <tr>\n",
       "      <th>4</th>\n",
       "      <td>Goodbyes (Feat. Young Thug)</td>\n",
       "      <td>Post Malone</td>\n",
       "      <td>dfw rap</td>\n",
       "      <td>dfw rap Post Malone</td>\n",
       "    </tr>\n",
       "  </tbody>\n",
       "</table>\n",
       "</div>"
      ],
      "text/plain": [
       "                        Track.Name    Artist.Name           Genre  \\\n",
       "0                         Senorita   Shawn Mendes    canadian pop   \n",
       "1                            China       Anuel AA  reggaeton flow   \n",
       "2    boyfriend (with Social House)  Ariana Grande       dance pop   \n",
       "3  Beautiful People (feat. Khalid)     Ed Sheeran             pop   \n",
       "4      Goodbyes (Feat. Young Thug)    Post Malone         dfw rap   \n",
       "\n",
       "           combined_features  \n",
       "0  canadian pop Shawn Mendes  \n",
       "1    reggaeton flow Anuel AA  \n",
       "2    dance pop Ariana Grande  \n",
       "3             pop Ed Sheeran  \n",
       "4        dfw rap Post Malone  "
      ]
     },
     "execution_count": 4,
     "metadata": {},
     "output_type": "execute_result"
    }
   ],
   "source": [
    "def combine_features(row):\n",
    "    return row['Genre'] + ' ' + row['Artist.Name']\n",
    "\n",
    "df['combined_features'] = df.apply(combine_features, axis=1)\n",
    "df.head()"
   ]
  },
  {
   "cell_type": "markdown",
   "metadata": {},
   "source": [
    "### Creating Count Matrix"
   ]
  },
  {
   "cell_type": "code",
   "execution_count": 5,
   "metadata": {},
   "outputs": [],
   "source": [
    "cv = CountVectorizer()\n",
    "count_matrix = cv.fit_transform(df['combined_features'])\n",
    "cos_similarity = cosine_similarity(count_matrix)"
   ]
  },
  {
   "cell_type": "code",
   "execution_count": 6,
   "metadata": {},
   "outputs": [],
   "source": [
    "music_name = 'Happier'"
   ]
  },
  {
   "cell_type": "code",
   "execution_count": 7,
   "metadata": {},
   "outputs": [
    {
     "data": {
      "text/plain": [
       "46"
      ]
     },
     "execution_count": 7,
     "metadata": {},
     "output_type": "execute_result"
    }
   ],
   "source": [
    "music_index = df[df['Track.Name'] == music_name].index.values[0]\n",
    "music_index"
   ]
  },
  {
   "cell_type": "markdown",
   "metadata": {},
   "source": [
    "### Searching for similar results in the dataset as per the keyword and appending it to the list"
   ]
  },
  {
   "cell_type": "code",
   "execution_count": 8,
   "metadata": {},
   "outputs": [],
   "source": [
    "similar_music = list(enumerate(cos_similarity[music_index]))\n",
    "sorted_similar_music = sorted(similar_music, key=lambda x:x[1], reverse=True)[1:]\n",
    "\n",
    "def get_title_from_index(index):\n",
    "    return df[df.index == index]['Track.Name'].values[0]"
   ]
  },
  {
   "cell_type": "code",
   "execution_count": 9,
   "metadata": {},
   "outputs": [
    {
     "data": {
      "text/plain": [
       "['Happier',\n",
       " 'Senorita',\n",
       " 'China',\n",
       " 'boyfriend (with Social House)',\n",
       " 'Beautiful People (feat. Khalid)',\n",
       " 'Goodbyes (Feat. Young Thug)']"
      ]
     },
     "execution_count": 9,
     "metadata": {},
     "output_type": "execute_result"
    }
   ],
   "source": [
    "music_list = []\n",
    "for i,music in enumerate(sorted_similar_music):\n",
    "    music_list.append(get_title_from_index(music[0]))\n",
    "    if i==5:\n",
    "        break\n",
    "music_list"
   ]
  },
  {
   "cell_type": "markdown",
   "metadata": {},
   "source": [
    "### Task Completed"
   ]
  },
  {
   "cell_type": "code",
   "execution_count": null,
   "metadata": {},
   "outputs": [],
   "source": []
  }
 ],
 "metadata": {
  "kernelspec": {
   "display_name": "Python 3",
   "language": "python",
   "name": "python3"
  },
  "language_info": {
   "codemirror_mode": {
    "name": "ipython",
    "version": 3
   },
   "file_extension": ".py",
   "mimetype": "text/x-python",
   "name": "python",
   "nbconvert_exporter": "python",
   "pygments_lexer": "ipython3",
   "version": "3.8.5"
  }
 },
 "nbformat": 4,
 "nbformat_minor": 4
}
